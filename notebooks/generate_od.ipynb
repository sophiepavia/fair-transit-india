{
 "cells": [
  {
   "cell_type": "markdown",
   "metadata": {},
   "source": [
    "# Generate OD matrices for an underlying network"
   ]
  },
  {
   "cell_type": "markdown",
   "metadata": {},
   "source": [
    "Using shortest path algorithmn to find shortest paths in Graph G (l_star)"
   ]
  },
  {
   "cell_type": "code",
   "execution_count": 9,
   "metadata": {},
   "outputs": [],
   "source": [
    "import pandas as pd\n",
    "import numpy as np\n",
    "import networkx as nx\n",
    "import matplotlib.pyplot as plt\n",
    "#added to ignore warnings\n",
    "import warnings\n",
    "warnings.simplefilter(action='ignore', category=FutureWarning)"
   ]
  },
  {
   "cell_type": "markdown",
   "metadata": {},
   "source": [
    "## Read in underlying network"
   ]
  },
  {
   "cell_type": "code",
   "execution_count": 10,
   "metadata": {},
   "outputs": [
    {
     "data": {
      "text/html": [
       "<div>\n",
       "<style scoped>\n",
       "    .dataframe tbody tr th:only-of-type {\n",
       "        vertical-align: middle;\n",
       "    }\n",
       "\n",
       "    .dataframe tbody tr th {\n",
       "        vertical-align: top;\n",
       "    }\n",
       "\n",
       "    .dataframe thead th {\n",
       "        text-align: right;\n",
       "    }\n",
       "</style>\n",
       "<table border=\"1\" class=\"dataframe\">\n",
       "  <thead>\n",
       "    <tr style=\"text-align: right;\">\n",
       "      <th></th>\n",
       "      <th>origin</th>\n",
       "      <th>destination</th>\n",
       "      <th>cost</th>\n",
       "      <th>lat_o</th>\n",
       "      <th>lon_o</th>\n",
       "      <th>lat_d</th>\n",
       "      <th>lon_d</th>\n",
       "    </tr>\n",
       "  </thead>\n",
       "  <tbody>\n",
       "    <tr>\n",
       "      <th>0</th>\n",
       "      <td>0</td>\n",
       "      <td>43</td>\n",
       "      <td>0.829055</td>\n",
       "      <td>82.675559</td>\n",
       "      <td>25.254938</td>\n",
       "      <td>82.682786</td>\n",
       "      <td>82.682786</td>\n",
       "    </tr>\n",
       "    <tr>\n",
       "      <th>1</th>\n",
       "      <td>1</td>\n",
       "      <td>6</td>\n",
       "      <td>0.654921</td>\n",
       "      <td>82.819525</td>\n",
       "      <td>25.199418</td>\n",
       "      <td>82.825389</td>\n",
       "      <td>82.825389</td>\n",
       "    </tr>\n",
       "    <tr>\n",
       "      <th>2</th>\n",
       "      <td>1</td>\n",
       "      <td>9</td>\n",
       "      <td>0.541245</td>\n",
       "      <td>82.819525</td>\n",
       "      <td>25.199418</td>\n",
       "      <td>82.824264</td>\n",
       "      <td>82.824264</td>\n",
       "    </tr>\n",
       "    <tr>\n",
       "      <th>3</th>\n",
       "      <td>1</td>\n",
       "      <td>11</td>\n",
       "      <td>2.129843</td>\n",
       "      <td>82.819525</td>\n",
       "      <td>25.199418</td>\n",
       "      <td>82.800454</td>\n",
       "      <td>82.800454</td>\n",
       "    </tr>\n",
       "    <tr>\n",
       "      <th>4</th>\n",
       "      <td>1</td>\n",
       "      <td>12</td>\n",
       "      <td>0.288988</td>\n",
       "      <td>82.819525</td>\n",
       "      <td>25.199418</td>\n",
       "      <td>82.817047</td>\n",
       "      <td>82.817047</td>\n",
       "    </tr>\n",
       "  </tbody>\n",
       "</table>\n",
       "</div>"
      ],
      "text/plain": [
       "   origin  destination      cost      lat_o      lon_o      lat_d      lon_d\n",
       "0       0           43  0.829055  82.675559  25.254938  82.682786  82.682786\n",
       "1       1            6  0.654921  82.819525  25.199418  82.825389  82.825389\n",
       "2       1            9  0.541245  82.819525  25.199418  82.824264  82.824264\n",
       "3       1           11  2.129843  82.819525  25.199418  82.800454  82.800454\n",
       "4       1           12  0.288988  82.819525  25.199418  82.817047  82.817047"
      ]
     },
     "execution_count": 10,
     "metadata": {},
     "output_type": "execute_result"
    }
   ],
   "source": [
    "df = pd.read_csv(\"../networks/edge_list.csv\")\n",
    "df.head()"
   ]
  },
  {
   "cell_type": "markdown",
   "metadata": {},
   "source": [
    "## Created directed graph"
   ]
  },
  {
   "cell_type": "code",
   "execution_count": 12,
   "metadata": {},
   "outputs": [],
   "source": [
    "G = nx.from_pandas_edgelist(\n",
    "    df, 'origin', \"destination\", \"cost\", create_using=nx.DiGraph())\n"
   ]
  },
  {
   "cell_type": "markdown",
   "metadata": {},
   "source": [
    "## Determine shortest path"
   ]
  },
  {
   "cell_type": "markdown",
   "metadata": {},
   "source": [
    "using cost (currenlty is length in km of an edge)"
   ]
  },
  {
   "cell_type": "code",
   "execution_count": 13,
   "metadata": {},
   "outputs": [],
   "source": [
    "d = nx.floyd_warshall(G, weight=\"cost\")"
   ]
  },
  {
   "cell_type": "markdown",
   "metadata": {},
   "source": [
    "## Create new dataframe"
   ]
  },
  {
   "cell_type": "code",
   "execution_count": 14,
   "metadata": {},
   "outputs": [],
   "source": [
    "final = pd.DataFrame(columns = ['origin', 'destination', 'l_star'])"
   ]
  },
  {
   "cell_type": "markdown",
   "metadata": {},
   "source": [
    "## Append to l_star to df"
   ]
  },
  {
   "cell_type": "code",
   "execution_count": 16,
   "metadata": {},
   "outputs": [],
   "source": [
    "rows = []\n",
    "for i in d.keys():\n",
    "    for j in d[i].keys():\n",
    "        rows.append({'origin': i, 'destination': j, 'l_star': d[i][j]})\n",
    "        #added line for determining edge frequency among paths \n",
    "        # if d[i][j] != 0:\n",
    "        #     print(nx.dijkstra_path(G, i, j))\n"
   ]
  },
  {
   "cell_type": "markdown",
   "metadata": {},
   "source": [
    "## Output to networks/l_star"
   ]
  },
  {
   "cell_type": "code",
   "execution_count": 20,
   "metadata": {},
   "outputs": [
    {
     "data": {
      "text/html": [
       "<div>\n",
       "<style scoped>\n",
       "    .dataframe tbody tr th:only-of-type {\n",
       "        vertical-align: middle;\n",
       "    }\n",
       "\n",
       "    .dataframe tbody tr th {\n",
       "        vertical-align: top;\n",
       "    }\n",
       "\n",
       "    .dataframe thead th {\n",
       "        text-align: right;\n",
       "    }\n",
       "</style>\n",
       "<table border=\"1\" class=\"dataframe\">\n",
       "  <thead>\n",
       "    <tr style=\"text-align: right;\">\n",
       "      <th></th>\n",
       "      <th>origin</th>\n",
       "      <th>destination</th>\n",
       "      <th>l_star</th>\n",
       "    </tr>\n",
       "  </thead>\n",
       "  <tbody>\n",
       "    <tr>\n",
       "      <th>0</th>\n",
       "      <td>0</td>\n",
       "      <td>43</td>\n",
       "      <td>0.829055</td>\n",
       "    </tr>\n",
       "    <tr>\n",
       "      <th>1</th>\n",
       "      <td>0</td>\n",
       "      <td>1</td>\n",
       "      <td>19.919975</td>\n",
       "    </tr>\n",
       "    <tr>\n",
       "      <th>2</th>\n",
       "      <td>0</td>\n",
       "      <td>6</td>\n",
       "      <td>19.554631</td>\n",
       "    </tr>\n",
       "    <tr>\n",
       "      <th>3</th>\n",
       "      <td>0</td>\n",
       "      <td>9</td>\n",
       "      <td>19.378730</td>\n",
       "    </tr>\n",
       "    <tr>\n",
       "      <th>4</th>\n",
       "      <td>0</td>\n",
       "      <td>11</td>\n",
       "      <td>22.040266</td>\n",
       "    </tr>\n",
       "    <tr>\n",
       "      <th>...</th>\n",
       "      <td>...</td>\n",
       "      <td>...</td>\n",
       "      <td>...</td>\n",
       "    </tr>\n",
       "    <tr>\n",
       "      <th>1683501</th>\n",
       "      <td>1290</td>\n",
       "      <td>1284</td>\n",
       "      <td>1.159394</td>\n",
       "    </tr>\n",
       "    <tr>\n",
       "      <th>1683502</th>\n",
       "      <td>1290</td>\n",
       "      <td>1285</td>\n",
       "      <td>1.352113</td>\n",
       "    </tr>\n",
       "    <tr>\n",
       "      <th>1683503</th>\n",
       "      <td>1290</td>\n",
       "      <td>1286</td>\n",
       "      <td>1.602071</td>\n",
       "    </tr>\n",
       "    <tr>\n",
       "      <th>1683504</th>\n",
       "      <td>1290</td>\n",
       "      <td>1277</td>\n",
       "      <td>2.757112</td>\n",
       "    </tr>\n",
       "    <tr>\n",
       "      <th>1683505</th>\n",
       "      <td>1290</td>\n",
       "      <td>1274</td>\n",
       "      <td>0.519726</td>\n",
       "    </tr>\n",
       "  </tbody>\n",
       "</table>\n",
       "<p>1683506 rows × 3 columns</p>\n",
       "</div>"
      ],
      "text/plain": [
       "         origin  destination     l_star\n",
       "0             0           43   0.829055\n",
       "1             0            1  19.919975\n",
       "2             0            6  19.554631\n",
       "3             0            9  19.378730\n",
       "4             0           11  22.040266\n",
       "...         ...          ...        ...\n",
       "1683501    1290         1284   1.159394\n",
       "1683502    1290         1285   1.352113\n",
       "1683503    1290         1286   1.602071\n",
       "1683504    1290         1277   2.757112\n",
       "1683505    1290         1274   0.519726\n",
       "\n",
       "[1683506 rows x 3 columns]"
      ]
     },
     "execution_count": 20,
     "metadata": {},
     "output_type": "execute_result"
    }
   ],
   "source": [
    "final = pd.DataFrame(rows)\n",
    "final = final[final['l_star']!=0].reset_index(drop = True)\n",
    "#big number to represent inf.\n",
    "final = final.replace(np.inf, 1000000) \n",
    "# final.to_csv('.networks/od/od.csv', encoding='utf-8', index=False)\n",
    "final"
   ]
  },
  {
   "cell_type": "markdown",
   "metadata": {},
   "source": [
    "## Add demand and priority to OD list"
   ]
  },
  {
   "cell_type": "code",
   "execution_count": null,
   "metadata": {},
   "outputs": [],
   "source": [
    "# Add synthetic demand (positive integers) and priorities (random decimals between 0 and 1, excluding 0 and 1)\n",
    "final['demand'] = np.random.randint(1, 100, size=len(final))\n",
    "final['priority'] = np.random.uniform(0.001, 0.999, size=len(final))"
   ]
  },
  {
   "cell_type": "code",
   "execution_count": null,
   "metadata": {},
   "outputs": [],
   "source": [
    "final.to_csv('../networks/l_star/india_od.csv', encoding='utf-8', index=False)"
   ]
  }
 ],
 "metadata": {
  "kernelspec": {
   "display_name": "Python 3.10.7 64-bit (microsoft store)",
   "language": "python",
   "name": "python3"
  },
  "language_info": {
   "codemirror_mode": {
    "name": "ipython",
    "version": 3
   },
   "file_extension": ".py",
   "mimetype": "text/x-python",
   "name": "python",
   "nbconvert_exporter": "python",
   "pygments_lexer": "ipython3",
   "version": "3.11.3"
  },
  "orig_nbformat": 4,
  "vscode": {
   "interpreter": {
    "hash": "e9359b18943326f54faff4c4eb20c445b3134344f5afefa546a9fcd7a086da9f"
   }
  }
 },
 "nbformat": 4,
 "nbformat_minor": 2
}
